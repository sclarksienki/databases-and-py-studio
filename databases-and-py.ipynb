{
    "metadata": {
        "kernelspec": {
            "name": "python3",
            "display_name": "Python 3 (ipykernel)",
            "language": "python"
        },
        "language_info": {
            "name": "python",
            "version": "3.10.9",
            "mimetype": "text/x-python",
            "codemirror_mode": {
                "name": "ipython",
                "version": 3
            },
            "pygments_lexer": "ipython3",
            "nbconvert_exporter": "python",
            "file_extension": ".py"
        }
    },
    "nbformat_minor": 2,
    "nbformat": 4,
    "cells": [
        {
            "cell_type": "markdown",
            "source": [
                "# Studio: Working with Databases in Python\n",
                "\n",
                "For today's studio, we will be using the [TV Shows dataset](https://www.kaggle.com/ruchi798/tv-shows-on-netflix-prime-video-hulu-and-disney) from Kaggle. We have already downloaded the CSV for you.\n",
                "\n",
                "You will also be using the watchlist you just created to figure out which streaming services contain the shows that you want to watch next so you can decide which one is worth the money to you.\n",
                "\n",
                "As you complete the different tasks in the studio, you may choose between using Pandas or SQL. Remember that during the prep work, we learned that one is oftentimes more efficient at certain tasks than the other, so choose wisely!"
            ],
            "metadata": {
                "azdata_cell_guid": "54326aff-51cd-4766-8046-828a92489c6d"
            },
            "attachments": {}
        },
        {
            "cell_type": "markdown",
            "source": [
                "## My Watchlist\n",
                "\n",
                "If you would like, please use this space to make note of your watchlist by editing the text cell.\n",
                "\n",
                "Watchlist: 1) Community, 2) Star Wars: The Clone Wars, 3) The Mandalorian, 4) Star Wars Rebels 5) Cobra Kai, 6) Bridgerton, 7) The Circle, 8) The Toys that Made Us, 9) Saturday Night Live, 10) One Tree Hill"
            ],
            "metadata": {
                "azdata_cell_guid": "00bc62ef-6c46-40a2-bdad-a3250a003ce7"
            },
            "attachments": {}
        },
        {
            "cell_type": "markdown",
            "source": [
                "## Database Setup\n",
                "\n",
                "To start with, import the necessary libraries and create a dataframe from the provided CSV. Print the info out for the dataframe. After that, you may drop the column called `Unnamed: 0` and rename any columns with spaces in the names or unusual characters such as `\"+\"`. Print out the info for the dataframe again to ensure that your changes were effective."
            ],
            "metadata": {
                "azdata_cell_guid": "040bdac5-f7fc-474f-b112-1d807249ad0a"
            }
        },
        {
            "cell_type": "code",
            "source": [
                "import pandas as pd\n",
                "import sqlite3 as sl\n",
                "\n",
                "tvdf=pd.read_csv('~/Library/Mobile Documents/com~apple~CloudDocs/LC_DA/Git/databases-and-py-studio/tv_shows.csv')\n",
                "tvdf.head()"
            ],
            "metadata": {
                "azdata_cell_guid": "965f15d3-27b1-43ed-97e4-8c6fd482476c",
                "tags": [],
                "language": "python"
            },
            "outputs": [
                {
                    "data": {
                        "text/plain": "   Unnamed: 0  ID             Title  Year  Age    IMDb Rotten Tomatoes  \\\n0           0   1      Breaking Bad  2008  18+  9.4/10         100/100   \n1           1   2   Stranger Things  2016  16+  8.7/10          96/100   \n2           2   3   Attack on Titan  2013  18+  9.0/10          95/100   \n3           3   4  Better Call Saul  2015  18+  8.8/10          94/100   \n4           4   5              Dark  2017  16+  8.8/10          93/100   \n\n   Netflix  Hulu  Prime Video  Disney+  Type  \n0        1     0            0        0     1  \n1        1     0            0        0     1  \n2        1     1            0        0     1  \n3        1     0            0        0     1  \n4        1     0            0        0     1  ",
                        "text/html": "<div>\n<style scoped>\n    .dataframe tbody tr th:only-of-type {\n        vertical-align: middle;\n    }\n\n    .dataframe tbody tr th {\n        vertical-align: top;\n    }\n\n    .dataframe thead th {\n        text-align: right;\n    }\n</style>\n<table border=\"1\" class=\"dataframe\">\n  <thead>\n    <tr style=\"text-align: right;\">\n      <th></th>\n      <th>Unnamed: 0</th>\n      <th>ID</th>\n      <th>Title</th>\n      <th>Year</th>\n      <th>Age</th>\n      <th>IMDb</th>\n      <th>Rotten Tomatoes</th>\n      <th>Netflix</th>\n      <th>Hulu</th>\n      <th>Prime Video</th>\n      <th>Disney+</th>\n      <th>Type</th>\n    </tr>\n  </thead>\n  <tbody>\n    <tr>\n      <th>0</th>\n      <td>0</td>\n      <td>1</td>\n      <td>Breaking Bad</td>\n      <td>2008</td>\n      <td>18+</td>\n      <td>9.4/10</td>\n      <td>100/100</td>\n      <td>1</td>\n      <td>0</td>\n      <td>0</td>\n      <td>0</td>\n      <td>1</td>\n    </tr>\n    <tr>\n      <th>1</th>\n      <td>1</td>\n      <td>2</td>\n      <td>Stranger Things</td>\n      <td>2016</td>\n      <td>16+</td>\n      <td>8.7/10</td>\n      <td>96/100</td>\n      <td>1</td>\n      <td>0</td>\n      <td>0</td>\n      <td>0</td>\n      <td>1</td>\n    </tr>\n    <tr>\n      <th>2</th>\n      <td>2</td>\n      <td>3</td>\n      <td>Attack on Titan</td>\n      <td>2013</td>\n      <td>18+</td>\n      <td>9.0/10</td>\n      <td>95/100</td>\n      <td>1</td>\n      <td>1</td>\n      <td>0</td>\n      <td>0</td>\n      <td>1</td>\n    </tr>\n    <tr>\n      <th>3</th>\n      <td>3</td>\n      <td>4</td>\n      <td>Better Call Saul</td>\n      <td>2015</td>\n      <td>18+</td>\n      <td>8.8/10</td>\n      <td>94/100</td>\n      <td>1</td>\n      <td>0</td>\n      <td>0</td>\n      <td>0</td>\n      <td>1</td>\n    </tr>\n    <tr>\n      <th>4</th>\n      <td>4</td>\n      <td>5</td>\n      <td>Dark</td>\n      <td>2017</td>\n      <td>16+</td>\n      <td>8.8/10</td>\n      <td>93/100</td>\n      <td>1</td>\n      <td>0</td>\n      <td>0</td>\n      <td>0</td>\n      <td>1</td>\n    </tr>\n  </tbody>\n</table>\n</div>"
                    },
                    "metadata": {},
                    "execution_count": 13,
                    "output_type": "execute_result"
                }
            ],
            "execution_count": 13
        },
        {
            "cell_type": "code",
            "source": [
                "tvdf = tvdf.drop(columns='Unnamed: 0')\n",
                "tvdf.columns"
            ],
            "metadata": {
                "language": "python",
                "azdata_cell_guid": "ec275cff-7726-4fd8-82dd-efe32887ff9c",
                "tags": []
            },
            "outputs": [
                {
                    "data": {
                        "text/plain": "Index(['ID', 'Title', 'Year', 'Age', 'IMDb', 'Rotten Tomatoes', 'Netflix',\n       'Hulu', 'Prime Video', 'Disney+', 'Type'],\n      dtype='object')"
                    },
                    "metadata": {},
                    "execution_count": 14,
                    "output_type": "execute_result"
                }
            ],
            "execution_count": 14
        },
        {
            "cell_type": "markdown",
            "source": [
                "With your dataframe at the ready, create a new database called `tv`. Add a new table to your database called `shows` using the data in the dataframe. "
            ],
            "metadata": {
                "azdata_cell_guid": "93875e01-f1ec-45ab-b8b3-c0fe09c89c41"
            },
            "attachments": {}
        },
        {
            "cell_type": "code",
            "source": [
                "con = sl.connect('tv.db')\n",
                "\n",
                "tvdf.to_sql('shows', con, if_exists='replace')"
            ],
            "metadata": {
                "azdata_cell_guid": "cae4affc-d930-4649-9c39-551475a83b5b",
                "tags": [],
                "language": "python"
            },
            "outputs": [
                {
                    "data": {
                        "text/plain": "5368"
                    },
                    "metadata": {},
                    "execution_count": 15,
                    "output_type": "execute_result"
                }
            ],
            "execution_count": 15
        },
        {
            "cell_type": "markdown",
            "source": [
                "With your new table and database set up, print out the top 20 records in the `shows` table."
            ],
            "metadata": {
                "azdata_cell_guid": "4916f211-149f-467b-b5e4-22ad946b54f2"
            },
            "attachments": {}
        },
        {
            "cell_type": "code",
            "source": [
                "with con:\n",
                "    data = con.execute(\"SELECT * FROM shows LIMIT 20\")\n",
                "for row in data:\n",
                "    print(row)"
            ],
            "metadata": {
                "azdata_cell_guid": "c6aa3980-3eef-4d7d-8f04-961508662147",
                "tags": [],
                "language": "python"
            },
            "outputs": [
                {
                    "name": "stdout",
                    "text": "(0, 1, 'Breaking Bad', 2008, '18+', '9.4/10', '100/100', 1, 0, 0, 0, 1)\n(1, 2, 'Stranger Things', 2016, '16+', '8.7/10', '96/100', 1, 0, 0, 0, 1)\n(2, 3, 'Attack on Titan', 2013, '18+', '9.0/10', '95/100', 1, 1, 0, 0, 1)\n(3, 4, 'Better Call Saul', 2015, '18+', '8.8/10', '94/100', 1, 0, 0, 0, 1)\n(4, 5, 'Dark', 2017, '16+', '8.8/10', '93/100', 1, 0, 0, 0, 1)\n(5, 6, 'Avatar: The Last Airbender', 2005, '7+', '9.3/10', '93/100', 1, 0, 1, 0, 1)\n(6, 7, 'Peaky Blinders', 2013, '18+', '8.8/10', '93/100', 1, 0, 0, 0, 1)\n(7, 8, 'The Walking Dead', 2010, '18+', '8.2/10', '93/100', 1, 0, 0, 0, 1)\n(8, 9, 'Black Mirror', 2011, '18+', '8.8/10', '92/100', 1, 0, 0, 0, 1)\n(9, 10, \"The Queen's Gambit\", 2020, '18+', '8.6/10', '92/100', 1, 0, 0, 0, 1)\n(10, 11, 'Mindhunter', 2017, '18+', '8.6/10', '90/100', 1, 0, 0, 0, 1)\n(11, 12, 'Community', 2009, '7+', '8.5/10', '90/100', 1, 1, 1, 0, 1)\n(12, 13, 'Narcos', 2015, '18+', '8.8/10', '90/100', 1, 0, 0, 0, 1)\n(13, 14, 'Shameless', 2011, '18+', '8.5/10', '90/100', 1, 1, 1, 0, 1)\n(14, 15, 'Money Heist', 2017, '18+', '8.3/10', '90/100', 1, 0, 0, 0, 1)\n(15, 16, \"Marvel's Daredevil\", 2015, '18+', '8.6/10', '90/100', 1, 0, 0, 0, 1)\n(16, 17, 'Lucifer', 2016, '16+', '8.1/10', '90/100', 1, 0, 0, 0, 1)\n(17, 18, 'Supernatural', 2005, '16+', '8.4/10', '89/100', 1, 0, 0, 0, 1)\n(18, 19, 'The Witcher', 2019, '18+', '8.2/10', '89/100', 1, 0, 0, 0, 1)\n(19, 20, 'Ozark', 2017, '18+', '8.4/10', '89/100', 1, 0, 0, 0, 1)\n",
                    "output_type": "stream"
                }
            ],
            "execution_count": 16
        },
        {
            "cell_type": "markdown",
            "source": [
                "Now add a table that includes an id number and the titles on your watchlist."
            ],
            "metadata": {
                "azdata_cell_guid": "f158ccd2-c87a-4d2c-a947-0eadd0484a3e"
            },
            "attachments": {}
        },
        {
            "cell_type": "code",
            "source": [
                "with con:\n",
                "    con.execute('''\n",
                "        CREATE TABLE watchlist(\n",
                "            ID int PRIMARY KEY NOT NULL,\n",
                "            title nvarchar(50) NOT NULL\n",
                "            )\n",
                "                ''')\n",
                "con.commit()\n",
                "\n",
                "sql = 'INSERT INTO watchlist (ID, title) values(?, ?)'\n",
                "data = [\n",
                "    (1, 'Community'), \n",
                "    (2, 'Star Wars: The Clone Wars'), \n",
                "    (3, 'The Mandalorian'),\n",
                "    (4, 'Star Wars Rebels'),\n",
                "    (5, 'Cobra Kai'),\n",
                "    (6, 'Bridgerton'),\n",
                "    (7, 'The Circle'),\n",
                "    (8, 'The Toys that Made Us'),\n",
                "    (9, 'Saturday Night Live'),\n",
                "    (10, 'One Tree Hill')\n",
                "]\n",
                "\n",
                "with con: con.executemany(sql, data)"
            ],
            "metadata": {
                "azdata_cell_guid": "f95defad-521b-4112-8435-08daaac80b80",
                "language": "python",
                "tags": []
            },
            "outputs": [],
            "execution_count": 17
        },
        {
            "cell_type": "markdown",
            "source": [
                "## Working with the Data\n",
                "\n",
                "Using either Pandas or SQL, determine how many shows are on each streaming service and what the mean is for each streaming service. \n",
                "\n",
                "**Note**: You may notice that the mean represents the percentage of shows in the dataframe that are on each streaming service. Take a moment to think about why that is."
            ],
            "metadata": {
                "azdata_cell_guid": "4716090d-63e3-4283-8245-934c4a28c750"
            },
            "attachments": {}
        },
        {
            "cell_type": "code",
            "source": [
                "#Agg count function\n",
                "\n",
                "service_dict=({'Netflix': ['sum','mean'], 'Hulu': ['sum','mean'], 'Prime Video': ['sum','mean'], 'Disney+': ['sum','mean']})\n",
                "dictionary_agg=tvdf.agg(service_dict)\n",
                "round(dictionary_agg, 2)"
            ],
            "metadata": {
                "azdata_cell_guid": "8e4f3757-474f-4e20-b861-db973437b541",
                "language": "python",
                "tags": []
            },
            "outputs": [
                {
                    "data": {
                        "text/plain": "      Netflix    Hulu  Prime Video  Disney+\nsum   1971.00  1621.0      1831.00   351.00\nmean     0.37     0.3         0.34     0.07",
                        "text/html": "<div>\n<style scoped>\n    .dataframe tbody tr th:only-of-type {\n        vertical-align: middle;\n    }\n\n    .dataframe tbody tr th {\n        vertical-align: top;\n    }\n\n    .dataframe thead th {\n        text-align: right;\n    }\n</style>\n<table border=\"1\" class=\"dataframe\">\n  <thead>\n    <tr style=\"text-align: right;\">\n      <th></th>\n      <th>Netflix</th>\n      <th>Hulu</th>\n      <th>Prime Video</th>\n      <th>Disney+</th>\n    </tr>\n  </thead>\n  <tbody>\n    <tr>\n      <th>sum</th>\n      <td>1971.00</td>\n      <td>1621.0</td>\n      <td>1831.00</td>\n      <td>351.00</td>\n    </tr>\n    <tr>\n      <th>mean</th>\n      <td>0.37</td>\n      <td>0.3</td>\n      <td>0.34</td>\n      <td>0.07</td>\n    </tr>\n  </tbody>\n</table>\n</div>"
                    },
                    "metadata": {},
                    "execution_count": 18,
                    "output_type": "execute_result"
                }
            ],
            "execution_count": 18
        },
        {
            "cell_type": "markdown",
            "source": [
                "Join your watchlist data with the shows data to determine which streaming services your watchlist shows are on and make a new table in your database using the joined data. Print out the data in your joined table to see what shows on your watchlist on in the original dataset. With the joined data, determine the percentage of your watchlist shows that are on each streaming service and how many of your watchlist shows are on each streaming service."
            ],
            "metadata": {
                "azdata_cell_guid": "167cbd0d-ad9f-4f27-8066-e45dfdfaf421"
            },
            "attachments": {}
        },
        {
            "cell_type": "code",
            "source": [
                "data = pd.read_sql_query(\"\"\"\n",
                "    SELECT *\n",
                "    FROM shows\n",
                "    INNER JOIN watchlist ON shows.Title = watchlist.Title \"\"\", con)\n",
                "data.head(20)"
            ],
            "metadata": {
                "azdata_cell_guid": "b871523e-a476-4f3a-a6ac-2e251f140e84",
                "language": "python",
                "tags": []
            },
            "outputs": [
                {
                    "data": {
                        "text/plain": "   index    ID                      Title  Year   Age    IMDb Rotten Tomatoes  \\\n0     11    12                  Community  2009    7+  8.5/10          90/100   \n1     21    22                  Cobra Kai  2018   16+  8.6/10          89/100   \n2    120   121                 Bridgerton  2020  None  7.3/10          79/100   \n3    282   284                 The Circle  2020   18+  7.3/10          70/100   \n4   2101  2138        Saturday Night Live  1975   16+  8.0/10          75/100   \n5   2123  2161              One Tree Hill  2003   16+  7.7/10          74/100   \n6   5058  5377            The Mandalorian  2019   16+  8.8/10          94/100   \n7   5061  5382  Star Wars: The Clone Wars  2008    7+  8.3/10          85/100   \n8   5065  5387           Star Wars Rebels  2014    7+  8.0/10          79/100   \n\n   Netflix  Hulu  Prime Video  Disney+  Type  ID                      title  \n0        1     1            1        0     1   1                  Community  \n1        1     0            0        0     1   5                  Cobra Kai  \n2        1     0            0        0     1   6                 Bridgerton  \n3        1     0            1        0     1   7                 The Circle  \n4        0     1            0        0     1   9        Saturday Night Live  \n5        0     1            0        0     1  10              One Tree Hill  \n6        0     0            0        1     1   3            The Mandalorian  \n7        0     0            0        1     1   2  Star Wars: The Clone Wars  \n8        0     0            0        1     1   4           Star Wars Rebels  ",
                        "text/html": "<div>\n<style scoped>\n    .dataframe tbody tr th:only-of-type {\n        vertical-align: middle;\n    }\n\n    .dataframe tbody tr th {\n        vertical-align: top;\n    }\n\n    .dataframe thead th {\n        text-align: right;\n    }\n</style>\n<table border=\"1\" class=\"dataframe\">\n  <thead>\n    <tr style=\"text-align: right;\">\n      <th></th>\n      <th>index</th>\n      <th>ID</th>\n      <th>Title</th>\n      <th>Year</th>\n      <th>Age</th>\n      <th>IMDb</th>\n      <th>Rotten Tomatoes</th>\n      <th>Netflix</th>\n      <th>Hulu</th>\n      <th>Prime Video</th>\n      <th>Disney+</th>\n      <th>Type</th>\n      <th>ID</th>\n      <th>title</th>\n    </tr>\n  </thead>\n  <tbody>\n    <tr>\n      <th>0</th>\n      <td>11</td>\n      <td>12</td>\n      <td>Community</td>\n      <td>2009</td>\n      <td>7+</td>\n      <td>8.5/10</td>\n      <td>90/100</td>\n      <td>1</td>\n      <td>1</td>\n      <td>1</td>\n      <td>0</td>\n      <td>1</td>\n      <td>1</td>\n      <td>Community</td>\n    </tr>\n    <tr>\n      <th>1</th>\n      <td>21</td>\n      <td>22</td>\n      <td>Cobra Kai</td>\n      <td>2018</td>\n      <td>16+</td>\n      <td>8.6/10</td>\n      <td>89/100</td>\n      <td>1</td>\n      <td>0</td>\n      <td>0</td>\n      <td>0</td>\n      <td>1</td>\n      <td>5</td>\n      <td>Cobra Kai</td>\n    </tr>\n    <tr>\n      <th>2</th>\n      <td>120</td>\n      <td>121</td>\n      <td>Bridgerton</td>\n      <td>2020</td>\n      <td>None</td>\n      <td>7.3/10</td>\n      <td>79/100</td>\n      <td>1</td>\n      <td>0</td>\n      <td>0</td>\n      <td>0</td>\n      <td>1</td>\n      <td>6</td>\n      <td>Bridgerton</td>\n    </tr>\n    <tr>\n      <th>3</th>\n      <td>282</td>\n      <td>284</td>\n      <td>The Circle</td>\n      <td>2020</td>\n      <td>18+</td>\n      <td>7.3/10</td>\n      <td>70/100</td>\n      <td>1</td>\n      <td>0</td>\n      <td>1</td>\n      <td>0</td>\n      <td>1</td>\n      <td>7</td>\n      <td>The Circle</td>\n    </tr>\n    <tr>\n      <th>4</th>\n      <td>2101</td>\n      <td>2138</td>\n      <td>Saturday Night Live</td>\n      <td>1975</td>\n      <td>16+</td>\n      <td>8.0/10</td>\n      <td>75/100</td>\n      <td>0</td>\n      <td>1</td>\n      <td>0</td>\n      <td>0</td>\n      <td>1</td>\n      <td>9</td>\n      <td>Saturday Night Live</td>\n    </tr>\n    <tr>\n      <th>5</th>\n      <td>2123</td>\n      <td>2161</td>\n      <td>One Tree Hill</td>\n      <td>2003</td>\n      <td>16+</td>\n      <td>7.7/10</td>\n      <td>74/100</td>\n      <td>0</td>\n      <td>1</td>\n      <td>0</td>\n      <td>0</td>\n      <td>1</td>\n      <td>10</td>\n      <td>One Tree Hill</td>\n    </tr>\n    <tr>\n      <th>6</th>\n      <td>5058</td>\n      <td>5377</td>\n      <td>The Mandalorian</td>\n      <td>2019</td>\n      <td>16+</td>\n      <td>8.8/10</td>\n      <td>94/100</td>\n      <td>0</td>\n      <td>0</td>\n      <td>0</td>\n      <td>1</td>\n      <td>1</td>\n      <td>3</td>\n      <td>The Mandalorian</td>\n    </tr>\n    <tr>\n      <th>7</th>\n      <td>5061</td>\n      <td>5382</td>\n      <td>Star Wars: The Clone Wars</td>\n      <td>2008</td>\n      <td>7+</td>\n      <td>8.3/10</td>\n      <td>85/100</td>\n      <td>0</td>\n      <td>0</td>\n      <td>0</td>\n      <td>1</td>\n      <td>1</td>\n      <td>2</td>\n      <td>Star Wars: The Clone Wars</td>\n    </tr>\n    <tr>\n      <th>8</th>\n      <td>5065</td>\n      <td>5387</td>\n      <td>Star Wars Rebels</td>\n      <td>2014</td>\n      <td>7+</td>\n      <td>8.0/10</td>\n      <td>79/100</td>\n      <td>0</td>\n      <td>0</td>\n      <td>0</td>\n      <td>1</td>\n      <td>1</td>\n      <td>4</td>\n      <td>Star Wars Rebels</td>\n    </tr>\n  </tbody>\n</table>\n</div>"
                    },
                    "metadata": {},
                    "execution_count": 31,
                    "output_type": "execute_result"
                }
            ],
            "execution_count": 31
        },
        {
            "cell_type": "code",
            "source": [
                "data.head(20).aggregate('sum')"
            ],
            "metadata": {
                "language": "python",
                "azdata_cell_guid": "199a4055-756e-4b2e-ba03-0ecd254d218e"
            },
            "outputs": [
                {
                    "name": "stderr",
                    "text": "/var/folders/nc/sfbwykc541d4ktbn0q7gz6080000gp/T/ipykernel_33848/1988727613.py:1: FutureWarning: The default value of numeric_only in DataFrame.sum is deprecated. In a future version, it will default to False. In addition, specifying 'numeric_only=None' is deprecated. Select only valid columns or specify the value of numeric_only to silence this warning.\n  data.head(20).aggregate('sum')\n",
                    "output_type": "stream"
                },
                {
                    "data": {
                        "text/plain": "index                                                          19842\nID                                                             20884\nTitle              CommunityCobra KaiBridgertonThe CircleSaturday...\nYear                                                           18086\nIMDb               8.5/108.6/107.3/107.3/108.0/107.7/108.8/108.3/...\nRotten Tomatoes    90/10089/10079/10070/10075/10074/10094/10085/1...\nNetflix                                                            4\nHulu                                                               3\nPrime Video                                                        2\nDisney+                                                            3\nType                                                               9\nID                                                                47\ntitle              CommunityCobra KaiBridgertonThe CircleSaturday...\ndtype: object"
                    },
                    "metadata": {},
                    "execution_count": 33,
                    "output_type": "execute_result"
                }
            ],
            "execution_count": 33
        },
        {
            "cell_type": "code",
            "source": [
                "con.close()"
            ],
            "metadata": {
                "language": "python",
                "azdata_cell_guid": "e9081d58-f30d-4d0d-a3ac-4b1f7701940f"
            },
            "outputs": [],
            "execution_count": 32
        },
        {
            "cell_type": "markdown",
            "source": [
                "## Results\n",
                "\n",
                "Now that you have done your analysis, make note of the answers to the following questions by editing the text cell:\n",
                "\n",
                "1. Was every show on your watchlist in the Kaggle dataset? Do you have any ideas as to why a show might not have been present? Yes! If it wasn't present, then it must have been on a service not listed, like Max, but all of my shows were there. \n",
                "2. Did you include a show or shows in your watchlist that is exclusive to one of the platforms? How might that have impacted your analysis? Yes, if I had not included all columns, I may have missed that show.\n",
                "3. Which streaming service(s) offered the most shows on your watchlist? Which streaming service(s) offered the least? Netflix\n",
                "4. Based on the shows you want to watch and the results of your analysis, is there a streaming service you think would be a good fit for you? I suppose Netflix would give me the most options, but I would choose Disney+ because it is the only streaming service that has Star Wars."
            ],
            "metadata": {
                "azdata_cell_guid": "909689e4-1aae-41e3-b1f8-158ebe5ec3ca"
            },
            "attachments": {}
        }
    ]
}